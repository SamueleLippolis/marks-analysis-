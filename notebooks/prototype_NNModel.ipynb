{
 "cells": [
  {
   "cell_type": "markdown",
   "id": "7708a4a0",
   "metadata": {},
   "source": [
    "# Prototype NN model"
   ]
  },
  {
   "cell_type": "markdown",
   "id": "12252e98",
   "metadata": {},
   "source": [
    "# Import "
   ]
  },
  {
   "cell_type": "code",
   "execution_count": 1,
   "id": "8342d3b1",
   "metadata": {},
   "outputs": [],
   "source": [
    "import pandas as pd"
   ]
  },
  {
   "cell_type": "code",
   "execution_count": 2,
   "id": "038faecd",
   "metadata": {},
   "outputs": [],
   "source": [
    "df = pd.read_csv('../data/interim_data/clean_ds.csv') # for semplicity i use the clean data (not the normalized one)"
   ]
  },
  {
   "cell_type": "code",
   "execution_count": 3,
   "id": "d30730b8",
   "metadata": {},
   "outputs": [
    {
     "data": {
      "text/html": [
       "<div>\n",
       "<style scoped>\n",
       "    .dataframe tbody tr th:only-of-type {\n",
       "        vertical-align: middle;\n",
       "    }\n",
       "\n",
       "    .dataframe tbody tr th {\n",
       "        vertical-align: top;\n",
       "    }\n",
       "\n",
       "    .dataframe thead th {\n",
       "        text-align: right;\n",
       "    }\n",
       "</style>\n",
       "<table border=\"1\" class=\"dataframe\">\n",
       "  <thead>\n",
       "    <tr style=\"text-align: right;\">\n",
       "      <th></th>\n",
       "      <th>aggregated1</th>\n",
       "      <th>aggregated2</th>\n",
       "      <th>granular1</th>\n",
       "      <th>granular2</th>\n",
       "      <th>granular3</th>\n",
       "      <th>granular4</th>\n",
       "      <th>granular5</th>\n",
       "      <th>id</th>\n",
       "    </tr>\n",
       "  </thead>\n",
       "  <tbody>\n",
       "    <tr>\n",
       "      <th>0</th>\n",
       "      <td>8.00</td>\n",
       "      <td>9.00</td>\n",
       "      <td>8.00</td>\n",
       "      <td>8.00</td>\n",
       "      <td>9.00</td>\n",
       "      <td>8.00</td>\n",
       "      <td>8.00</td>\n",
       "      <td>1</td>\n",
       "    </tr>\n",
       "    <tr>\n",
       "      <th>1</th>\n",
       "      <td>6.67</td>\n",
       "      <td>8.33</td>\n",
       "      <td>6.00</td>\n",
       "      <td>7.67</td>\n",
       "      <td>7.00</td>\n",
       "      <td>7.00</td>\n",
       "      <td>6.67</td>\n",
       "      <td>2</td>\n",
       "    </tr>\n",
       "    <tr>\n",
       "      <th>2</th>\n",
       "      <td>5.33</td>\n",
       "      <td>4.33</td>\n",
       "      <td>6.33</td>\n",
       "      <td>4.00</td>\n",
       "      <td>6.33</td>\n",
       "      <td>4.33</td>\n",
       "      <td>6.67</td>\n",
       "      <td>3</td>\n",
       "    </tr>\n",
       "    <tr>\n",
       "      <th>3</th>\n",
       "      <td>7.67</td>\n",
       "      <td>8.33</td>\n",
       "      <td>7.67</td>\n",
       "      <td>8.33</td>\n",
       "      <td>6.67</td>\n",
       "      <td>7.67</td>\n",
       "      <td>8.67</td>\n",
       "      <td>4</td>\n",
       "    </tr>\n",
       "    <tr>\n",
       "      <th>4</th>\n",
       "      <td>7.00</td>\n",
       "      <td>8.33</td>\n",
       "      <td>7.67</td>\n",
       "      <td>8.00</td>\n",
       "      <td>9.00</td>\n",
       "      <td>7.67</td>\n",
       "      <td>8.33</td>\n",
       "      <td>5</td>\n",
       "    </tr>\n",
       "  </tbody>\n",
       "</table>\n",
       "</div>"
      ],
      "text/plain": [
       "   aggregated1  aggregated2  granular1  granular2  granular3  granular4  \\\n",
       "0         8.00         9.00       8.00       8.00       9.00       8.00   \n",
       "1         6.67         8.33       6.00       7.67       7.00       7.00   \n",
       "2         5.33         4.33       6.33       4.00       6.33       4.33   \n",
       "3         7.67         8.33       7.67       8.33       6.67       7.67   \n",
       "4         7.00         8.33       7.67       8.00       9.00       7.67   \n",
       "\n",
       "   granular5  id  \n",
       "0       8.00   1  \n",
       "1       6.67   2  \n",
       "2       6.67   3  \n",
       "3       8.67   4  \n",
       "4       8.33   5  "
      ]
     },
     "execution_count": 3,
     "metadata": {},
     "output_type": "execute_result"
    }
   ],
   "source": [
    "df.head()"
   ]
  },
  {
   "cell_type": "markdown",
   "id": "95962446",
   "metadata": {},
   "source": [
    "# Model"
   ]
  },
  {
   "cell_type": "code",
   "execution_count": 15,
   "id": "ad7fe560",
   "metadata": {},
   "outputs": [],
   "source": [
    "from sklearn import model_selection\n",
    "from sklearn.model_selection import train_test_split\n",
    "import torch\n",
    "import torch.nn as nn\n",
    "import torch.optim as optim"
   ]
  },
  {
   "cell_type": "markdown",
   "id": "49f3082a",
   "metadata": {},
   "source": [
    "Define target and features"
   ]
  },
  {
   "cell_type": "code",
   "execution_count": 10,
   "id": "e2d1e48c",
   "metadata": {},
   "outputs": [],
   "source": [
    "target_cols = ['aggregated1', 'aggregated2']\n",
    "feature_cols = ['granular1', 'granular2', 'granular3', 'granular4', 'granular5']\n",
    "\n",
    "X = df[feature_cols].values\n",
    "y = df[target_cols].values"
   ]
  },
  {
   "cell_type": "markdown",
   "id": "b4ff279b",
   "metadata": {},
   "source": [
    "Define train and test set"
   ]
  },
  {
   "cell_type": "code",
   "execution_count": 13,
   "id": "8a720b19",
   "metadata": {},
   "outputs": [],
   "source": [
    "seed = 0\n",
    "X_train, X_test, y_train, y_test = train_test_split(X,y, test_size = 0.2, random_state=seed)"
   ]
  },
  {
   "cell_type": "markdown",
   "id": "7547f51f",
   "metadata": {},
   "source": [
    "Define the model"
   ]
  },
  {
   "cell_type": "code",
   "execution_count": 17,
   "id": "77b86895",
   "metadata": {},
   "outputs": [],
   "source": [
    "class gilizaNN(nn.Module):\n",
    "    def __init__(self, *args, **kwargs):\n",
    "        super().__init__(*args, **kwargs)\n",
    "\n",
    "        self.net = nn.Sequential(\n",
    "            nn.Linear(5, 64),\n",
    "            nn.ReLU(),\n",
    "            nn.Linear(64, 32),\n",
    "            nn.ReLU(),\n",
    "            nn.Linear(32, 2)\n",
    "        )\n",
    "    \n",
    "    def forward(self, x):\n",
    "        return self.net(x)\n",
    "\n",
    "model = gilizaNN()"
   ]
  },
  {
   "cell_type": "markdown",
   "id": "c0038878",
   "metadata": {},
   "source": [
    "Train model (see tier)"
   ]
  }
 ],
 "metadata": {
  "kernelspec": {
   "display_name": "nemoai",
   "language": "python",
   "name": "python3"
  },
  "language_info": {
   "codemirror_mode": {
    "name": "ipython",
    "version": 3
   },
   "file_extension": ".py",
   "mimetype": "text/x-python",
   "name": "python",
   "nbconvert_exporter": "python",
   "pygments_lexer": "ipython3",
   "version": "3.12.7"
  }
 },
 "nbformat": 4,
 "nbformat_minor": 5
}
