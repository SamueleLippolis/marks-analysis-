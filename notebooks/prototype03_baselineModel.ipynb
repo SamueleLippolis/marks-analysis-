{
 "cells": [
  {
   "cell_type": "markdown",
   "id": "52540a26",
   "metadata": {},
   "source": [
    "# Prototype baseline model"
   ]
  },
  {
   "cell_type": "markdown",
   "id": "bb714f5a",
   "metadata": {},
   "source": [
    "# Import "
   ]
  },
  {
   "cell_type": "code",
   "execution_count": 33,
   "id": "1501fc77",
   "metadata": {},
   "outputs": [],
   "source": [
    "import pandas as pd\n",
    "import matplotlib.pyplot as plt "
   ]
  },
  {
   "cell_type": "code",
   "execution_count": 34,
   "id": "f86e64c9",
   "metadata": {},
   "outputs": [],
   "source": [
    "df = pd.read_csv('../data/interim_data/clean_ds.csv') # for semplicity i use the clean data (not the normalized one)"
   ]
  },
  {
   "cell_type": "code",
   "execution_count": 35,
   "id": "4986ba54",
   "metadata": {},
   "outputs": [
    {
     "data": {
      "text/html": [
       "<div>\n",
       "<style scoped>\n",
       "    .dataframe tbody tr th:only-of-type {\n",
       "        vertical-align: middle;\n",
       "    }\n",
       "\n",
       "    .dataframe tbody tr th {\n",
       "        vertical-align: top;\n",
       "    }\n",
       "\n",
       "    .dataframe thead th {\n",
       "        text-align: right;\n",
       "    }\n",
       "</style>\n",
       "<table border=\"1\" class=\"dataframe\">\n",
       "  <thead>\n",
       "    <tr style=\"text-align: right;\">\n",
       "      <th></th>\n",
       "      <th>aggregated1</th>\n",
       "      <th>aggregated2</th>\n",
       "      <th>granular1</th>\n",
       "      <th>granular2</th>\n",
       "      <th>granular3</th>\n",
       "      <th>granular4</th>\n",
       "      <th>granular5</th>\n",
       "      <th>id</th>\n",
       "    </tr>\n",
       "  </thead>\n",
       "  <tbody>\n",
       "    <tr>\n",
       "      <th>0</th>\n",
       "      <td>8.00</td>\n",
       "      <td>9.00</td>\n",
       "      <td>8.00</td>\n",
       "      <td>8.00</td>\n",
       "      <td>9.00</td>\n",
       "      <td>8.00</td>\n",
       "      <td>8.00</td>\n",
       "      <td>1</td>\n",
       "    </tr>\n",
       "    <tr>\n",
       "      <th>1</th>\n",
       "      <td>6.67</td>\n",
       "      <td>8.33</td>\n",
       "      <td>6.00</td>\n",
       "      <td>7.67</td>\n",
       "      <td>7.00</td>\n",
       "      <td>7.00</td>\n",
       "      <td>6.67</td>\n",
       "      <td>2</td>\n",
       "    </tr>\n",
       "    <tr>\n",
       "      <th>2</th>\n",
       "      <td>5.33</td>\n",
       "      <td>4.33</td>\n",
       "      <td>6.33</td>\n",
       "      <td>4.00</td>\n",
       "      <td>6.33</td>\n",
       "      <td>4.33</td>\n",
       "      <td>6.67</td>\n",
       "      <td>3</td>\n",
       "    </tr>\n",
       "    <tr>\n",
       "      <th>3</th>\n",
       "      <td>7.67</td>\n",
       "      <td>8.33</td>\n",
       "      <td>7.67</td>\n",
       "      <td>8.33</td>\n",
       "      <td>6.67</td>\n",
       "      <td>7.67</td>\n",
       "      <td>8.67</td>\n",
       "      <td>4</td>\n",
       "    </tr>\n",
       "    <tr>\n",
       "      <th>4</th>\n",
       "      <td>7.00</td>\n",
       "      <td>8.33</td>\n",
       "      <td>7.67</td>\n",
       "      <td>8.00</td>\n",
       "      <td>9.00</td>\n",
       "      <td>7.67</td>\n",
       "      <td>8.33</td>\n",
       "      <td>5</td>\n",
       "    </tr>\n",
       "  </tbody>\n",
       "</table>\n",
       "</div>"
      ],
      "text/plain": [
       "   aggregated1  aggregated2  granular1  granular2  granular3  granular4  \\\n",
       "0         8.00         9.00       8.00       8.00       9.00       8.00   \n",
       "1         6.67         8.33       6.00       7.67       7.00       7.00   \n",
       "2         5.33         4.33       6.33       4.00       6.33       4.33   \n",
       "3         7.67         8.33       7.67       8.33       6.67       7.67   \n",
       "4         7.00         8.33       7.67       8.00       9.00       7.67   \n",
       "\n",
       "   granular5  id  \n",
       "0       8.00   1  \n",
       "1       6.67   2  \n",
       "2       6.67   3  \n",
       "3       8.67   4  \n",
       "4       8.33   5  "
      ]
     },
     "execution_count": 35,
     "metadata": {},
     "output_type": "execute_result"
    }
   ],
   "source": [
    "df.head()"
   ]
  },
  {
   "cell_type": "markdown",
   "id": "4c5a1ae3",
   "metadata": {},
   "source": [
    "# Model"
   ]
  },
  {
   "cell_type": "markdown",
   "id": "ac42ed79",
   "metadata": {},
   "source": [
    "Build model"
   ]
  },
  {
   "cell_type": "code",
   "execution_count": 36,
   "id": "c203925b",
   "metadata": {},
   "outputs": [],
   "source": [
    "import numpy as np"
   ]
  },
  {
   "cell_type": "code",
   "execution_count": 57,
   "id": "10803876",
   "metadata": {},
   "outputs": [],
   "source": [
    "def meanModel_predict(X): # The * means \"pack all positional arguments into the tuple X\"\n",
    "    \"\"\"\n",
    "    Given one or more lists/arrays of numbers, return their means.\n",
    "    - If one list is given → return a single mean (float)\n",
    "    - If multiple lists are given → return a list of means\n",
    "    \"\"\"\n",
    "    means = np.array([[np.mean(x),np.mean(x)] for x in X])\n",
    "    return means[0] if len(means) == 1 else means \n",
    "\n",
    "    "
   ]
  },
  {
   "cell_type": "markdown",
   "id": "b186d552",
   "metadata": {},
   "source": [
    "Define target and features "
   ]
  },
  {
   "cell_type": "code",
   "execution_count": 58,
   "id": "e8a238b5",
   "metadata": {},
   "outputs": [],
   "source": [
    "target_cols = ['aggregated1', 'aggregated2']\n",
    "feature_cols = ['granular1', 'granular2', 'granular3', 'granular4', 'granular5']\n",
    "\n",
    "X = df[feature_cols].values\n",
    "y = df[target_cols].values"
   ]
  },
  {
   "cell_type": "markdown",
   "id": "897b5404",
   "metadata": {},
   "source": [
    "Define train and split "
   ]
  },
  {
   "cell_type": "code",
   "execution_count": 59,
   "id": "8c4287b4",
   "metadata": {},
   "outputs": [],
   "source": [
    "from sklearn.model_selection import train_test_split\n",
    "seed = 0\n",
    "test_size = 0.2\n",
    "\n",
    "X_train, X_test, y_train, y_test = train_test_split(X,y, test_size = test_size, random_state=seed)"
   ]
  },
  {
   "cell_type": "code",
   "execution_count": 60,
   "id": "91a215d9",
   "metadata": {},
   "outputs": [
    {
     "data": {
      "text/plain": [
       "array([[5.  , 8.  , 6.  , 7.  , 7.33],\n",
       "       [5.  , 7.33, 5.  , 7.  , 3.33],\n",
       "       [5.  , 7.33, 6.33, 7.  , 7.  ],\n",
       "       [7.67, 8.  , 9.  , 7.67, 8.33],\n",
       "       [8.33, 8.  , 8.  , 8.  , 8.  ],\n",
       "       [6.  , 8.  , 6.  , 7.  , 8.33],\n",
       "       [7.  , 7.  , 6.33, 7.  , 6.67],\n",
       "       [7.67, 8.  , 7.33, 8.33, 8.33],\n",
       "       [4.  , 7.  , 6.33, 7.  , 6.33]])"
      ]
     },
     "execution_count": 60,
     "metadata": {},
     "output_type": "execute_result"
    }
   ],
   "source": [
    "X_test"
   ]
  },
  {
   "cell_type": "markdown",
   "id": "eea37c44",
   "metadata": {},
   "source": [
    "Eval"
   ]
  },
  {
   "cell_type": "code",
   "execution_count": 61,
   "id": "2b25daaf",
   "metadata": {},
   "outputs": [
    {
     "data": {
      "text/plain": [
       "array([[6.666, 6.666],\n",
       "       [5.532, 5.532],\n",
       "       [6.532, 6.532],\n",
       "       [8.134, 8.134],\n",
       "       [8.066, 8.066],\n",
       "       [7.066, 7.066],\n",
       "       [6.8  , 6.8  ],\n",
       "       [7.932, 7.932],\n",
       "       [6.132, 6.132]])"
      ]
     },
     "execution_count": 61,
     "metadata": {},
     "output_type": "execute_result"
    }
   ],
   "source": [
    "y_pred = meanModel_predict(X_test) # *X_test unpacks the array into individual rows\n",
    "y_pred"
   ]
  },
  {
   "cell_type": "code",
   "execution_count": 62,
   "id": "7bf6f146",
   "metadata": {},
   "outputs": [
    {
     "data": {
      "text/plain": [
       "array([6.666, 5.532, 6.532, 8.134, 8.066, 7.066, 6.8  , 7.932, 6.132])"
      ]
     },
     "execution_count": 62,
     "metadata": {},
     "output_type": "execute_result"
    }
   ],
   "source": [
    "y_pred[:,0]"
   ]
  },
  {
   "cell_type": "code",
   "execution_count": 63,
   "id": "a31cbbb5",
   "metadata": {},
   "outputs": [
    {
     "name": "stdout",
     "output_type": "stream",
     "text": [
      "---- Overall ----\n",
      "R2  : 0.5577\n",
      "MAE : 0.8100\n",
      "MAPE: 0.1704\n",
      "\n",
      "---- Agg1 ----\n",
      "R2  : 0.3946\n",
      "MAE : 1.0660\n",
      "MAPE: 0.2294\n",
      "\n",
      "---- Agg2 ----\n",
      "R2  : 0.7208\n",
      "MAE : 0.5540\n",
      "MAPE: 0.1114\n"
     ]
    }
   ],
   "source": [
    "from sklearn.metrics import r2_score, mean_absolute_error, mean_absolute_percentage_error\n",
    "\n",
    "r2 = r2_score(y_true = y_test, y_pred = y_pred )\n",
    "mae = mean_absolute_error(y_true = y_test, y_pred = y_pred )\n",
    "mape = mean_absolute_percentage_error(y_true = y_test, y_pred = y_pred )\n",
    "\n",
    "r2_agg1 = r2_score(y_true = y_test[:,0], y_pred = y_pred[:,0])\n",
    "mae_agg1 = mean_absolute_error(y_true = y_test[:,0], y_pred = y_pred[:,0])\n",
    "mape_agg1 = mean_absolute_percentage_error(y_true = y_test[:,0], y_pred = y_pred[:,0])\n",
    "\n",
    "r2_agg2 = r2_score(y_true = y_test[:,1], y_pred = y_pred[:,1])\n",
    "mae_agg2 = mean_absolute_error(y_true = y_test[:,1], y_pred = y_pred[:,1])\n",
    "mape_agg2 = mean_absolute_percentage_error(y_true = y_test[:,1], y_pred = y_pred[:,1])\n",
    "\n",
    "print(\"---- Overall ----\")\n",
    "print(f\"R2  : {r2:.4f}\")\n",
    "print(f\"MAE : {mae:.4f}\")\n",
    "print(f\"MAPE: {mape:.4f}\")\n",
    "\n",
    "print(\"\\n---- Agg1 ----\")\n",
    "print(f\"R2  : {r2_agg1:.4f}\")\n",
    "print(f\"MAE : {mae_agg1:.4f}\")\n",
    "print(f\"MAPE: {mape_agg1:.4f}\")\n",
    "\n",
    "print(\"\\n---- Agg2 ----\")\n",
    "print(f\"R2  : {r2_agg2:.4f}\")\n",
    "print(f\"MAE : {mae_agg2:.4f}\")\n",
    "print(f\"MAPE: {mape_agg2:.4f}\")\n",
    "\n"
   ]
  },
  {
   "cell_type": "markdown",
   "id": "0952a845",
   "metadata": {},
   "source": [
    "Plot "
   ]
  },
  {
   "cell_type": "code",
   "execution_count": 65,
   "id": "b9ec382d",
   "metadata": {},
   "outputs": [],
   "source": [
    "import os, json, datetime "
   ]
  },
  {
   "cell_type": "code",
   "execution_count": 67,
   "id": "c805dd7c",
   "metadata": {},
   "outputs": [],
   "source": [
    "# build exp folder\n",
    "timestamp = datetime.datetime.now().strftime('%Y%m%d_%H%M%S')\n",
    "exp_name = f\"exp_seed{seed}\"\n",
    "exp_dir = f\"../report/experiment_plots/modelMean_{timestamp}_{exp_name}\"\n",
    "os.makedirs(exp_dir, exist_ok=True)\n",
    "\n",
    "# def config \n",
    "config = {\n",
    "    \"model\": \"MeanModel\",\n",
    "    \"seed\": seed,\n",
    "    \"test_size\": test_size\n",
    "}\n",
    "\n",
    "with open(f\"{exp_dir}/config.json\",'w') as f:\n",
    "    json.dump(config, f, indent=4)\n",
    "\n",
    "# Metriche \n",
    "\n",
    "metrics = {\n",
    "    \"overall\": {\"r2\": r2, \"mae\": mae, \"mape\": mape},\n",
    "    \"agg1\": {\"r2\": r2_agg1, \"mae\": mae_agg1, \"mape\": mape_agg1},\n",
    "    \"agg2\": {\"r2\": r2_agg2, \"mae\": mae_agg2, \"mape\": mape_agg2},\n",
    "}\n",
    "\n",
    "with open(f\"{exp_dir}/metrics.json\", \"w\") as f:\n",
    "    json.dump(metrics, f, indent = 4)\n"
   ]
  },
  {
   "cell_type": "code",
   "execution_count": 68,
   "id": "abec5720",
   "metadata": {},
   "outputs": [
    {
     "data": {
      "image/png": "[encoded data removed]",
      "text/plain": [
       "<Figure size 1000x600 with 2 Axes>"
      ]
     },
     "metadata": {},
     "output_type": "display_data"
    }
   ],
   "source": [
    "plt.figure(figsize=(10,6))\n",
    "\n",
    "# Titolo generale\n",
    "plt.suptitle(\"Predictions visualization\", fontsize=16, y=0.95)\n",
    "\n",
    "plt.subplot(1,2,1)\n",
    "plt.title(\"Agg1\")\n",
    "plt.plot(y_test[:,0], marker='o', linestyle='None', label='Ground truth')\n",
    "plt.plot(y_pred[:,0], marker='x', linestyle='None', label='Preds')\n",
    "plt.ylim(1,10)\n",
    "plt.legend()\n",
    "plt.grid(True)\n",
    "\n",
    "plt.subplot(1,2,2)\n",
    "plt.title(\"Agg2\")\n",
    "plt.plot(y_test[:,1], marker='o', linestyle='None', label='Ground truth')\n",
    "plt.plot(y_pred[:,1], marker='x', linestyle='None', label='Preds')\n",
    "plt.ylim(1,10)\n",
    "plt.legend()\n",
    "plt.grid(True)\n",
    "\n",
    "plt.savefig(f\"{exp_dir}/se_preds.png\", dpi=150)\n",
    "\n",
    "# Migliora il layout\n",
    "plt.tight_layout(rect=[0, 0, 1, 0.95])\n",
    "plt.show()\n"
   ]
  }
 ],
 "metadata": {
  "kernelspec": {
   "display_name": "nemoai",
   "language": "python",
   "name": "python3"
  },
  "language_info": {
   "codemirror_mode": {
    "name": "ipython",
    "version": 3
   },
   "file_extension": ".py",
   "mimetype": "text/x-python",
   "name": "python",
   "nbconvert_exporter": "python",
   "pygments_lexer": "ipython3",
   "version": "3.12.7"
  }
 },
 "nbformat": 4,
 "nbformat_minor": 5
}
