{
 "cells": [
  {
   "cell_type": "markdown",
   "id": "7708a4a0",
   "metadata": {},
   "source": [
    "# Prototype NN model"
   ]
  },
  {
   "cell_type": "markdown",
   "id": "12252e98",
   "metadata": {},
   "source": [
    "# Import "
   ]
  },
  {
   "cell_type": "code",
   "execution_count": 3,
   "id": "8342d3b1",
   "metadata": {},
   "outputs": [],
   "source": [
    "import pandas as pd\n",
    "import matplotlib.pyplot as plt "
   ]
  },
  {
   "cell_type": "code",
   "execution_count": 4,
   "id": "038faecd",
   "metadata": {},
   "outputs": [],
   "source": [
    "df = pd.read_csv('../data/interim_data/clean_ds.csv') # for semplicity i use the clean data (not the normalized one)"
   ]
  },
  {
   "cell_type": "code",
   "execution_count": null,
   "id": "d30730b8",
   "metadata": {},
   "outputs": [
    {
     "data": {
      "text/html": [
       "<div>\n",
       "<style scoped>\n",
       "    .dataframe tbody tr th:only-of-type {\n",
       "        vertical-align: middle;\n",
       "    }\n",
       "\n",
       "    .dataframe tbody tr th {\n",
       "        vertical-align: top;\n",
       "    }\n",
       "\n",
       "    .dataframe thead th {\n",
       "        text-align: right;\n",
       "    }\n",
       "</style>\n",
       "<table border=\"1\" class=\"dataframe\">\n",
       "  <thead>\n",
       "    <tr style=\"text-align: right;\">\n",
       "      <th></th>\n",
       "      <th>aggregated1</th>\n",
       "      <th>aggregated2</th>\n",
       "      <th>granular1</th>\n",
       "      <th>granular2</th>\n",
       "      <th>granular3</th>\n",
       "      <th>granular4</th>\n",
       "      <th>granular5</th>\n",
       "      <th>id</th>\n",
       "    </tr>\n",
       "  </thead>\n",
       "  <tbody>\n",
       "    <tr>\n",
       "      <th>0</th>\n",
       "      <td>8.00</td>\n",
       "      <td>9.00</td>\n",
       "      <td>8.00</td>\n",
       "      <td>8.00</td>\n",
       "      <td>9.00</td>\n",
       "      <td>8.00</td>\n",
       "      <td>8.00</td>\n",
       "      <td>1</td>\n",
       "    </tr>\n",
       "    <tr>\n",
       "      <th>1</th>\n",
       "      <td>6.67</td>\n",
       "      <td>8.33</td>\n",
       "      <td>6.00</td>\n",
       "      <td>7.67</td>\n",
       "      <td>7.00</td>\n",
       "      <td>7.00</td>\n",
       "      <td>6.67</td>\n",
       "      <td>2</td>\n",
       "    </tr>\n",
       "    <tr>\n",
       "      <th>2</th>\n",
       "      <td>5.33</td>\n",
       "      <td>4.33</td>\n",
       "      <td>6.33</td>\n",
       "      <td>4.00</td>\n",
       "      <td>6.33</td>\n",
       "      <td>4.33</td>\n",
       "      <td>6.67</td>\n",
       "      <td>3</td>\n",
       "    </tr>\n",
       "    <tr>\n",
       "      <th>3</th>\n",
       "      <td>7.67</td>\n",
       "      <td>8.33</td>\n",
       "      <td>7.67</td>\n",
       "      <td>8.33</td>\n",
       "      <td>6.67</td>\n",
       "      <td>7.67</td>\n",
       "      <td>8.67</td>\n",
       "      <td>4</td>\n",
       "    </tr>\n",
       "    <tr>\n",
       "      <th>4</th>\n",
       "      <td>7.00</td>\n",
       "      <td>8.33</td>\n",
       "      <td>7.67</td>\n",
       "      <td>8.00</td>\n",
       "      <td>9.00</td>\n",
       "      <td>7.67</td>\n",
       "      <td>8.33</td>\n",
       "      <td>5</td>\n",
       "    </tr>\n",
       "  </tbody>\n",
       "</table>\n",
       "</div>"
      ],
      "text/plain": [
       "   aggregated1  aggregated2  granular1  granular2  granular3  granular4  \\\n",
       "0         8.00         9.00       8.00       8.00       9.00       8.00   \n",
       "1         6.67         8.33       6.00       7.67       7.00       7.00   \n",
       "2         5.33         4.33       6.33       4.00       6.33       4.33   \n",
       "3         7.67         8.33       7.67       8.33       6.67       7.67   \n",
       "4         7.00         8.33       7.67       8.00       9.00       7.67   \n",
       "\n",
       "   granular5  id  \n",
       "0       8.00   1  \n",
       "1       6.67   2  \n",
       "2       6.67   3  \n",
       "3       8.67   4  \n",
       "4       8.33   5  "
      ]
     },
     "execution_count": 5,
     "metadata": {},
     "output_type": "execute_result"
    }
   ],
   "source": [
    "df.head()"
   ]
  },
  {
   "cell_type": "markdown",
   "id": "95962446",
   "metadata": {},
   "source": [
    "# Model"
   ]
  },
  {
   "cell_type": "code",
   "execution_count": 6,
   "id": "ad7fe560",
   "metadata": {},
   "outputs": [],
   "source": [
    "from sklearn import model_selection\n",
    "from sklearn.model_selection import train_test_split\n",
    "import torch\n",
    "import torch.nn as nn\n",
    "import torch.optim as optim\n",
    "from torch.utils.data import DataLoader, TensorDataset"
   ]
  },
  {
   "cell_type": "markdown",
   "id": "49f3082a",
   "metadata": {},
   "source": [
    "Define target and features"
   ]
  },
  {
   "cell_type": "code",
   "execution_count": 7,
   "id": "e2d1e48c",
   "metadata": {},
   "outputs": [],
   "source": [
    "target_cols = ['aggregated1', 'aggregated2']\n",
    "feature_cols = ['granular1', 'granular2', 'granular3', 'granular4', 'granular5']\n",
    "\n",
    "X = df[feature_cols].values\n",
    "y = df[target_cols].values"
   ]
  },
  {
   "cell_type": "markdown",
   "id": "b4ff279b",
   "metadata": {},
   "source": [
    "Define train and test set"
   ]
  },
  {
   "cell_type": "code",
   "execution_count": 8,
   "id": "8a720b19",
   "metadata": {},
   "outputs": [],
   "source": [
    "seed = 0\n",
    "test_size = 0.2\n",
    "\n",
    "X_train, X_test, y_train, y_test = train_test_split(X,y, test_size = test_size, random_state=seed)"
   ]
  },
  {
   "cell_type": "code",
   "execution_count": 9,
   "id": "2022e356",
   "metadata": {},
   "outputs": [
    {
     "data": {
      "text/plain": [
       "array([[5.  , 8.  , 6.  , 7.  , 7.33],\n",
       "       [5.  , 7.33, 5.  , 7.  , 3.33],\n",
       "       [5.  , 7.33, 6.33, 7.  , 7.  ],\n",
       "       [7.67, 8.  , 9.  , 7.67, 8.33],\n",
       "       [8.33, 8.  , 8.  , 8.  , 8.  ],\n",
       "       [6.  , 8.  , 6.  , 7.  , 8.33],\n",
       "       [7.  , 7.  , 6.33, 7.  , 6.67],\n",
       "       [7.67, 8.  , 7.33, 8.33, 8.33],\n",
       "       [4.  , 7.  , 6.33, 7.  , 6.33]])"
      ]
     },
     "execution_count": 9,
     "metadata": {},
     "output_type": "execute_result"
    }
   ],
   "source": [
    "X_test"
   ]
  },
  {
   "cell_type": "markdown",
   "id": "7547f51f",
   "metadata": {},
   "source": [
    "Define the model"
   ]
  },
  {
   "cell_type": "code",
   "execution_count": 10,
   "id": "77b86895",
   "metadata": {},
   "outputs": [],
   "source": [
    "class gilizaNN(nn.Module):\n",
    "    def __init__(self, *args, **kwargs):\n",
    "        super().__init__(*args, **kwargs)\n",
    "\n",
    "        self.net = nn.Sequential(\n",
    "            nn.Linear(5, 64),\n",
    "            nn.ReLU(),\n",
    "            nn.Linear(64, 32),\n",
    "            nn.ReLU(),\n",
    "            nn.Linear(32, 2)\n",
    "        )\n",
    "    \n",
    "    def forward(self, x):\n",
    "        return self.net(x)\n",
    "\n",
    "model = gilizaNN()"
   ]
  },
  {
   "cell_type": "markdown",
   "id": "c0038878",
   "metadata": {},
   "source": [
    "Train model "
   ]
  },
  {
   "cell_type": "markdown",
   "id": "244cefd2",
   "metadata": {},
   "source": [
    "dataloader, loss and optimizer "
   ]
  },
  {
   "cell_type": "code",
   "execution_count": 11,
   "id": "cfe78c9e",
   "metadata": {},
   "outputs": [],
   "source": [
    "batch_size = 8\n",
    "lr = 0.001\n",
    "\n",
    "# ---\n",
    "\n",
    "x_train_t = torch.tensor(X_train, dtype=torch.float32)\n",
    "y_train_t = torch.tensor(y_train, dtype=torch.float32)\n",
    "x_test_t = torch.tensor(X_test, dtype=torch.float32)\n",
    "y_test_t = torch.tensor(y_test, dtype=torch.float32)\n",
    "\n",
    "data_loader = DataLoader(TensorDataset(x_train_t, y_train_t), batch_size = batch_size, shuffle = True)\n",
    "loss_fnc = nn.MSELoss()\n",
    "optimizer = optim.Adam(model.parameters(), lr=lr)"
   ]
  },
  {
   "cell_type": "markdown",
   "id": "4c11d0c3",
   "metadata": {},
   "source": [
    "Train model"
   ]
  },
  {
   "cell_type": "code",
   "execution_count": 12,
   "id": "d918c688",
   "metadata": {},
   "outputs": [
    {
     "name": "stdout",
     "output_type": "stream",
     "text": [
      "Epoch: 0 | Train_loss: 49.45684567619772 | Test_loss: 32.92752456665039 \n",
      "Epoch: 10 | Train_loss: 0.6545022620874292 | Test_loss: 1.697497844696045 \n",
      "Epoch: 20 | Train_loss: 0.5212885772480684 | Test_loss: 1.088238000869751 \n",
      "Epoch: 30 | Train_loss: 0.47175715250127453 | Test_loss: 1.1099539995193481 \n",
      "Epoch: 40 | Train_loss: 0.4374147302964154 | Test_loss: 1.171430230140686 \n",
      "Epoch: 50 | Train_loss: 0.413640814668992 | Test_loss: 1.281754970550537 \n",
      "Epoch: 60 | Train_loss: 0.3893134734209846 | Test_loss: 1.2629731893539429 \n",
      "Epoch: 70 | Train_loss: 0.3815742906402139 | Test_loss: 1.1420098543167114 \n",
      "Epoch: 80 | Train_loss: 0.3635747958632076 | Test_loss: 1.2496006488800049 \n",
      "Epoch: 90 | Train_loss: 0.34552058928153095 | Test_loss: 1.2588552236557007 \n",
      "Epoch: 100 | Train_loss: 0.3319973888642648 | Test_loss: 1.3025728464126587 \n"
     ]
    }
   ],
   "source": [
    "num_epochs = 100\n",
    "\n",
    "test_loss_hst, train_loss_hst = [], []\n",
    "for epoch in range(num_epochs+1):\n",
    "    model.train()\n",
    "    running_train_loss = 0\n",
    "    for xb,yb in data_loader:\n",
    "        preds = model(xb)\n",
    "        loss = loss_fnc(preds, yb)\n",
    "        #\n",
    "        optimizer.zero_grad()\n",
    "        loss.backward()\n",
    "        optimizer.step()\n",
    "        #\n",
    "        running_train_loss += loss.item() * xb.size(0)\n",
    "    \n",
    "    epoch_train_loss = running_train_loss / len(data_loader.dataset)\n",
    "    if epoch % 10 == 0:\n",
    "        model.eval()\n",
    "        with torch.no_grad():\n",
    "            test_preds = model(x_test_t)\n",
    "            test_loss = loss_fnc(test_preds, y_test_t)\n",
    "        test_loss_hst.append(test_loss.item())\n",
    "        #\n",
    "        train_loss_hst.append(epoch_train_loss)\n",
    "        print(f\"Epoch: {epoch} | Train_loss: {epoch_train_loss} | Test_loss: {test_loss} \")"
   ]
  },
  {
   "cell_type": "markdown",
   "id": "d808a59a",
   "metadata": {},
   "source": [
    "Eval"
   ]
  },
  {
   "cell_type": "markdown",
   "id": "71a7a6e7",
   "metadata": {},
   "source": [
    "Metric eval"
   ]
  },
  {
   "cell_type": "code",
   "execution_count": 18,
   "id": "2b454341",
   "metadata": {},
   "outputs": [
    {
     "data": {
      "text/plain": [
       "torch.Tensor"
      ]
     },
     "execution_count": 18,
     "metadata": {},
     "output_type": "execute_result"
    }
   ],
   "source": [
    "type(preds)"
   ]
  },
  {
   "cell_type": "code",
   "execution_count": 13,
   "id": "886c7649",
   "metadata": {},
   "outputs": [
    {
     "name": "stdout",
     "output_type": "stream",
     "text": [
      "---- Overall ----\n",
      "R2  : 0.4685\n",
      "MAE : 0.8691\n",
      "MAPE: 0.1807\n",
      "\n",
      "---- Agg1 ----\n",
      "R2  : 0.5864\n",
      "MAE : 0.8934\n",
      "MAPE: 0.1909\n",
      "\n",
      "---- Agg2 ----\n",
      "R2  : 0.3505\n",
      "MAE : 0.8448\n",
      "MAPE: 0.1704\n"
     ]
    }
   ],
   "source": [
    "from sklearn.metrics import r2_score, mean_absolute_error, mean_absolute_percentage_error \n",
    "\n",
    "model.eval()\n",
    "with torch.no_grad():\n",
    "    preds = model(x_test_t)\n",
    "\n",
    "r2 = r2_score(y_true = y_test_t, y_pred = preds )\n",
    "mae = mean_absolute_error(y_true = y_test_t, y_pred = preds )\n",
    "mape = mean_absolute_percentage_error(y_true = y_test_t, y_pred = preds )\n",
    "\n",
    "r2_agg1 = r2_score(y_true = y_test_t[:,0], y_pred = preds[:,0])\n",
    "mae_agg1 = mean_absolute_error(y_true = y_test_t[:,0], y_pred = preds[:,0])\n",
    "mape_agg1 = mean_absolute_percentage_error(y_true = y_test_t[:,0], y_pred = preds[:,0] )\n",
    "\n",
    "r2_agg2 = r2_score(y_true = y_test_t[:,1], y_pred = preds[:,1])\n",
    "mae_agg2 = mean_absolute_error(y_true = y_test_t[:,1], y_pred = preds[:,1])\n",
    "mape_agg2 = mean_absolute_percentage_error(y_true = y_test_t[:,1], y_pred = preds[:,1] )\n",
    "\n",
    "print(\"---- Overall ----\")\n",
    "print(f\"R2  : {r2:.4f}\")\n",
    "print(f\"MAE : {mae:.4f}\")\n",
    "print(f\"MAPE: {mape:.4f}\")\n",
    "\n",
    "print(\"\\n---- Agg1 ----\")\n",
    "print(f\"R2  : {r2_agg1:.4f}\")\n",
    "print(f\"MAE : {mae_agg1:.4f}\")\n",
    "print(f\"MAPE: {mape_agg1:.4f}\")\n",
    "\n",
    "print(\"\\n---- Agg2 ----\")\n",
    "print(f\"R2  : {r2_agg2:.4f}\")\n",
    "print(f\"MAE : {mae_agg2:.4f}\")\n",
    "print(f\"MAPE: {mape_agg2:.4f}\")\n"
   ]
  },
  {
   "cell_type": "markdown",
   "id": "29a15a17",
   "metadata": {},
   "source": [
    "Plot "
   ]
  },
  {
   "cell_type": "code",
   "execution_count": null,
   "id": "db129524",
   "metadata": {},
   "outputs": [
    {
     "data": {
      "image/png": "[encoded data removed]",
      "text/plain": [
       "<Figure size 800x600 with 1 Axes>"
      ]
     },
     "metadata": {},
     "output_type": "display_data"
    },
    {
     "name": "stdout",
     "output_type": "stream",
     "text": [
      "\n",
      "✅ Metriche salvate in: ../report/experiment_plots/20251014_101240_exp_seed0_lr0.001_bs8/metrics.json\n"
     ]
    }
   ],
   "source": [
    "import os, json, datetime\n",
    "\n",
    "# build new folder \n",
    "timestamp = datetime.datetime.now().strftime(\"%Y%m%d_%H%M%S\")\n",
    "exp_name = f\"exp_seed{seed}_lr{lr}_bs{batch_size}\"\n",
    "exp_dir = f\"../report/experiment_plots/NN_{timestamp}_{exp_name}\"\n",
    "os.makedirs(exp_dir, exist_ok=True)\n",
    "\n",
    "# plot\n",
    "\n",
    "loss_check_point_frq = 10\n",
    "epochs = [i * loss_check_point_frq for i in range(int(num_epochs/loss_check_point_frq) + 1)]\n",
    "\n",
    "plt.figure(figsize = (8,6) )\n",
    "plt.plot(epochs, train_loss_hst, label = \"MSE Train loss\")\n",
    "plt.plot(epochs, test_loss_hst, label = \"MSE Test loss\")\n",
    "plt.xlabel(\"Epochs\")\n",
    "plt.ylabel(\"MSE value\")\n",
    "plt.title(\"Train/test loss through epochs\")\n",
    "plt.legend()\n",
    "plt.grid(True)\n",
    "plt.savefig(f\"{exp_dir}/seq_loss.png\", dpi=150)\n",
    "plt.show()\n",
    "\n",
    "# save config \n",
    "\n",
    "config = {\n",
    "    \"model\": \"gilizaNN\",\n",
    "    \"seed\": seed,\n",
    "    \"test_size\": test_size,\n",
    "    \"epochs\": num_epochs,\n",
    "    \"batch_size\": batch_size,\n",
    "    \"lr\": lr\n",
    "}\n",
    "\n",
    "with open(f\"{exp_dir}/config.json\", \"w\") as f:\n",
    "    json.dump(config, f, indent=4)\n",
    "\n",
    "# --- salva metriche nel folder dell’esperimento ---\n",
    "metrics = {\n",
    "    \"overall\": {\"r2\": r2, \"mae\": mae, \"mape\": mape},\n",
    "    \"agg1\": {\"r2\": r2_agg1, \"mae\": mae_agg1, \"mape\": mape_agg1},\n",
    "    \"agg2\": {\"r2\": r2_agg2, \"mae\": mae_agg2, \"mape\": mape_agg2},\n",
    "}\n",
    "\n",
    "with open(f\"{exp_dir}/metrics.json\", \"w\") as f:\n",
    "    json.dump(metrics, f, indent=4)\n",
    "\n",
    "print(f\"\\n✅ Metriche salvate in: {exp_dir}/metrics.json\")\n"
   ]
  },
  {
   "cell_type": "code",
   "execution_count": 15,
   "id": "661b5387",
   "metadata": {},
   "outputs": [
    {
     "data": {
      "image/png": "[encoded data removed]",
      "text/plain": [
       "<Figure size 1000x600 with 2 Axes>"
      ]
     },
     "metadata": {},
     "output_type": "display_data"
    }
   ],
   "source": [
    "plt.figure(figsize=(10,6))\n",
    "\n",
    "# Titolo generale\n",
    "plt.suptitle(\"Predictions visualization\", fontsize=16, y=0.95)\n",
    "\n",
    "plt.subplot(1,2,1)\n",
    "plt.title(\"Agg1\")\n",
    "plt.plot(y_test[:,0], marker='o', linestyle='None', label='Ground truth')\n",
    "plt.plot(preds[:,0], marker='x', linestyle='None', label='Preds')\n",
    "plt.ylim(1,10)\n",
    "plt.legend()\n",
    "plt.grid(True)\n",
    "\n",
    "plt.subplot(1,2,2)\n",
    "plt.title(\"Agg2\")\n",
    "plt.plot(y_test[:,1], marker='o', linestyle='None', label='Ground truth')\n",
    "plt.plot(preds[:,1], marker='x', linestyle='None', label='Preds')\n",
    "plt.ylim(1,10)\n",
    "plt.legend()\n",
    "plt.grid(True)\n",
    "\n",
    "plt.savefig(f\"{exp_dir}/se_preds.png\", dpi=150)\n",
    "\n",
    "# Migliora il layout\n",
    "plt.tight_layout(rect=[0, 0, 1, 0.95])\n",
    "plt.show()\n"
   ]
  }
 ],
 "metadata": {
  "kernelspec": {
   "display_name": "nemoai",
   "language": "python",
   "name": "python3"
  },
  "language_info": {
   "codemirror_mode": {
    "name": "ipython",
    "version": 3
   },
   "file_extension": ".py",
   "mimetype": "text/x-python",
   "name": "python",
   "nbconvert_exporter": "python",
   "pygments_lexer": "ipython3",
   "version": "3.12.7"
  }
 },
 "nbformat": 4,
 "nbformat_minor": 5
}
